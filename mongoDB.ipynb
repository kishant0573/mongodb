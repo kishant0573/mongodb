{
  "nbformat": 4,
  "nbformat_minor": 0,
  "metadata": {
    "colab": {
      "provenance": []
    },
    "kernelspec": {
      "name": "python3",
      "display_name": "Python 3"
    },
    "language_info": {
      "name": "python"
    }
  },
  "cells": [
    {
      "cell_type": "markdown",
      "source": [
        "# mongodb theory\n",
        "\n",
        "---\n",
        "\n",
        "### 1. What are the key differences between SQL and NoSQL databases?\n",
        "\n",
        "* **SQL**: Relational, structured schema, supports JOINs, uses tables.\n",
        "* **NoSQL** (like MongoDB): Document-based, flexible schema, horizontally scalable, stores data in JSON-like documents.\n",
        "\n",
        "---\n",
        "\n",
        "### 2. What makes MongoDB a good choice for modern applications?\n",
        "\n",
        "* Schema flexibility\n",
        "* JSON-style documents (BSON)\n",
        "* High scalability and performance\n",
        "* Real-time analytics support\n",
        "* Easy cloud deployment (e.g., MongoDB Atlas)\n",
        "\n",
        "---\n",
        "\n",
        "### 3. Explain the concept of collections in MongoDB.\n",
        "\n",
        "* Collections are equivalent to tables in SQL.\n",
        "* They hold **documents** (records), which are JSON-like.\n",
        "* Example:\n",
        "\n",
        "```json\n",
        "{\n",
        "  \"name\": \"Alice\",\n",
        "  \"age\": 25,\n",
        "  \"skills\": [\"Python\", \"MongoDB\"]\n",
        "}\n",
        "```\n",
        "\n",
        "---\n",
        "\n",
        "### 4. How does MongoDB ensure high availability using replication?\n",
        "\n",
        "* Uses **Replica Sets**: A group of `primary` and `secondary` nodes.\n",
        "* If primary fails, a secondary auto-elects as new primary.\n",
        "\n",
        "---\n",
        "\n",
        "### 5. What are the main benefits of MongoDB Atlas?\n",
        "\n",
        "* Fully managed cloud database.\n",
        "* Automated backups, scaling, monitoring.\n",
        "* Global clusters, serverless options, and security features.\n",
        "\n",
        "---\n",
        "\n",
        "### 6. What is the role of indexes in MongoDB, and how do they improve performance?\n",
        "\n",
        "* Indexes support fast query execution.\n",
        "* Example:\n",
        "\n",
        "```python\n",
        "  db.users.create_index(\"email\")\n",
        "```\n",
        "\n",
        "* Without an index, MongoDB scans all documents.\n",
        "\n",
        "---\n",
        "\n",
        "### 7. Describe the stages of the MongoDB aggregation pipeline.\n",
        "\n",
        "* `$match`: Filter data\n",
        "* `$group`: Group by fields\n",
        "* `$project`: Select/transform fields\n",
        "* `$sort`: Order documents\n",
        "* `$limit`, `$skip`: Pagination\n",
        "\n",
        "---\n",
        "\n",
        "### 8. What is sharding in MongoDB? How does it differ from replication?\n",
        "\n",
        "* **Sharding**: Splits data across shards (horizontal scaling).\n",
        "* **Replication**: Duplicates data for fault tolerance.\n",
        "* They **can be used together**.\n",
        "\n",
        "---\n",
        "\n",
        "### 9. What is PyMongo, and why is it used?\n",
        "\n",
        "* PyMongo is the **official Python driver** for MongoDB.\n",
        "* Used to connect and interact with MongoDB from Python.\n",
        "\n",
        "```python\n",
        "  from pymongo import MongoClient\n",
        "  client = MongoClient(\"mongodb://localhost:27017/\")\n",
        "```\n",
        "\n",
        "---\n",
        "\n",
        "### 10. What are the ACID properties in the context of MongoDB transactions?\n",
        "\n",
        "* **Atomicity, Consistency, Isolation, Durability**\n",
        "* Supported in multi-document transactions (since v4.0+)\n",
        "\n",
        "---\n",
        "\n",
        "### 11. What is the purpose of MongoDB’s `explain()` function?\n",
        "\n",
        "* Analyzes and outputs query execution plans.\n",
        "\n",
        "```python\n",
        "  db.collection.find({\"name\": \"Alice\"}).explain()\n",
        "```\n",
        "\n",
        "---\n",
        "\n",
        "### 12. How does MongoDB handle schema validation?\n",
        "\n",
        "* Define rules with `validator` during collection creation.\n",
        "\n",
        "```python\n",
        "  db.create_collection(\"users\", validator={\n",
        "    \"$jsonSchema\": {\n",
        "      \"bsonType\": \"object\",\n",
        "      \"required\": [\"name\", \"age\"]\n",
        "    }\n",
        "  })\n",
        "```\n",
        "\n",
        "---\n",
        "\n",
        "### 13. What is the difference between a primary and a secondary node in a replica set?\n",
        "\n",
        "* **Primary**: Accepts writes/reads.\n",
        "* **Secondary**: Replicates from primary, usually read-only.\n",
        "\n",
        "---\n",
        "\n",
        "### 14. What security mechanisms does MongoDB provide for data protection?\n",
        "\n",
        "* Role-Based Access Control (RBAC)\n",
        "* TLS/SSL encryption\n",
        "* Authentication (SCRAM, x.509)\n",
        "* IP whitelisting\n",
        "* Encryption-at-rest\n",
        "\n",
        "---\n",
        "\n",
        "### 15. Explain the concept of embedded documents and when they should be used.\n",
        "\n",
        "* Store related data inside the same document.\n",
        "* Ideal for **one-to-few** relationships.\n",
        "\n",
        "```json\n",
        "{\n",
        "  \"name\": \"Alice\",\n",
        "  \"address\": { \"city\": \"Delhi\", \"zip\": \"110001\" }\n",
        "}\n",
        "```\n",
        "\n",
        "---\n",
        "\n",
        "### 16. What is the purpose of MongoDB’s `$lookup` stage in aggregation?\n",
        "\n",
        "* Performs **JOIN-like** operations between collections.\n",
        "\n",
        "```json\n",
        "{ \"$lookup\": {\n",
        "  \"from\": \"orders\",\n",
        "  \"localField\": \"user_id\",\n",
        "  \"foreignField\": \"user_id\",\n",
        "  \"as\": \"order_info\"\n",
        "}}\n",
        "```\n",
        "\n",
        "---\n",
        "\n",
        "### 17. What are some common use cases for MongoDB?\n",
        "\n",
        "* Content management systems\n",
        "* IoT applications\n",
        "* Real-time analytics\n",
        "* Catalogs and inventories\n",
        "* Mobile apps\n",
        "\n",
        "---\n",
        "\n",
        "### 18. What are the advantages of using MongoDB for horizontal scaling?\n",
        "\n",
        "* Easy to add shards.\n",
        "* Distributes data automatically.\n",
        "* Increases write/read capacity.\n",
        "\n",
        "---\n",
        "\n",
        "### 19. How do MongoDB transactions differ from SQL transactions?\n",
        "\n",
        "* MongoDB transactions are newer (v4.0+), mostly used in enterprise needs.\n",
        "* Not as mature as RDBMS but support multi-doc ACID compliance.\n",
        "\n",
        "---\n",
        "\n",
        "### 20. What are the main differences between capped collections and regular collections?\n",
        "\n",
        "* **Capped collections**: Fixed size, auto-overwrite old docs.\n",
        "* **Regular collections**: Unlimited, manual deletion required.\n",
        "\n",
        "---\n",
        "\n",
        "### 21. What is the purpose of the `$match` stage in MongoDB’s aggregation pipeline?\n",
        "\n",
        "* Filters documents similar to `find()`, used as the **first stage**.\n",
        "\n",
        "```json\n",
        "{ \"$match\": { \"status\": \"active\" } }\n",
        "```\n",
        "\n",
        "---\n",
        "\n",
        "### 22. How can you secure access to a MongoDB database?\n",
        "\n",
        "* Enable authentication\n",
        "* Use TLS/SSL\n",
        "* Define user roles\n",
        "* Enable auditing and IP whitelisting\n",
        "\n",
        "---\n",
        "\n",
        "### 23. What is MongoDB’s WiredTiger storage engine, and why is it important?\n",
        "\n",
        "* Default storage engine (since v3.2).\n",
        "* Supports compression, concurrency, checkpoints.\n",
        "* Great performance with high throughput workloads.\n"
      ],
      "metadata": {
        "id": "yjHNfrcrP01A"
      }
    },
    {
      "cell_type": "markdown",
      "source": [
        "#Practical question."
      ],
      "metadata": {
        "id": "4y4kU9Z3Qvv5"
      }
    },
    {
      "cell_type": "code",
      "source": [
        "# pip install pandas pymongo\n"
      ],
      "metadata": {
        "colab": {
          "base_uri": "https://localhost:8080/"
        },
        "id": "2egKN_mGNvVd",
        "outputId": "5a25d2ec-cacc-41f8-807c-afd15be0963a"
      },
      "execution_count": 1,
      "outputs": [
        {
          "output_type": "stream",
          "name": "stdout",
          "text": [
            "Requirement already satisfied: pandas in /usr/local/lib/python3.11/dist-packages (2.2.2)\n",
            "Collecting pymongo\n",
            "  Downloading pymongo-4.13.2-cp311-cp311-manylinux_2_17_x86_64.manylinux2014_x86_64.whl.metadata (22 kB)\n",
            "Requirement already satisfied: numpy>=1.23.2 in /usr/local/lib/python3.11/dist-packages (from pandas) (2.0.2)\n",
            "Requirement already satisfied: python-dateutil>=2.8.2 in /usr/local/lib/python3.11/dist-packages (from pandas) (2.9.0.post0)\n",
            "Requirement already satisfied: pytz>=2020.1 in /usr/local/lib/python3.11/dist-packages (from pandas) (2025.2)\n",
            "Requirement already satisfied: tzdata>=2022.7 in /usr/local/lib/python3.11/dist-packages (from pandas) (2025.2)\n",
            "Collecting dnspython<3.0.0,>=1.16.0 (from pymongo)\n",
            "  Downloading dnspython-2.7.0-py3-none-any.whl.metadata (5.8 kB)\n",
            "Requirement already satisfied: six>=1.5 in /usr/local/lib/python3.11/dist-packages (from python-dateutil>=2.8.2->pandas) (1.17.0)\n",
            "Downloading pymongo-4.13.2-cp311-cp311-manylinux_2_17_x86_64.manylinux2014_x86_64.whl (1.4 MB)\n",
            "\u001b[2K   \u001b[90m━━━━━━━━━━━━━━━━━━━━━━━━━━━━━━━━━━━━━━━━\u001b[0m \u001b[32m1.4/1.4 MB\u001b[0m \u001b[31m16.4 MB/s\u001b[0m eta \u001b[36m0:00:00\u001b[0m\n",
            "\u001b[?25hDownloading dnspython-2.7.0-py3-none-any.whl (313 kB)\n",
            "\u001b[2K   \u001b[90m━━━━━━━━━━━━━━━━━━━━━━━━━━━━━━━━━━━━━━━━\u001b[0m \u001b[32m313.6/313.6 kB\u001b[0m \u001b[31m21.3 MB/s\u001b[0m eta \u001b[36m0:00:00\u001b[0m\n",
            "\u001b[?25hInstalling collected packages: dnspython, pymongo\n",
            "Successfully installed dnspython-2.7.0 pymongo-4.13.2\n"
          ]
        }
      ]
    },
    {
      "cell_type": "code",
      "source": [
        "import pandas as pd\n",
        "from pymongo import MongoClient"
      ],
      "metadata": {
        "id": "1vtD-6I0Qa3g"
      },
      "execution_count": 2,
      "outputs": []
    },
    {
      "cell_type": "code",
      "source": [
        "# MongoDB connection setup\n",
        "client = MongoClient(\"mongodb://localhost:27017/\")\n",
        "db = client[\"superstore\"]\n",
        "orders_col = db[\"orders\"]"
      ],
      "metadata": {
        "id": "ViaUWdySN79b"
      },
      "execution_count": null,
      "outputs": []
    },
    {
      "cell_type": "code",
      "source": [
        "# Write a Python script to load the Superstore dataset from a CSV file into MongoDB.\n",
        "df = pd.read_csv(\"superstore.csv\")\n",
        "orders_col.delete_many({})\n",
        "orders_col.insert_many(df.to_dict(orient=\"records\"))\n",
        "print(\"Data loaded into MongoDB\")"
      ],
      "metadata": {
        "id": "Qxwt8kZDOImM"
      },
      "execution_count": null,
      "outputs": []
    },
    {
      "cell_type": "code",
      "source": [
        "# 2. Retrieve and print all documents from the Orders collection\n",
        "print(\"\\n All Documents:\")\n",
        "for doc in orders_col.find():\n",
        "    print(doc)"
      ],
      "metadata": {
        "id": "i-E7Bi-LOPpb"
      },
      "execution_count": null,
      "outputs": []
    },
    {
      "cell_type": "code",
      "source": [
        "# 3. Count and display the total number of documents in the Orders collection<\n",
        "\n",
        "total_docs = orders_col.count_documents({})\n",
        "print(f\"\\n Total Documents: {total_docs}\")"
      ],
      "metadata": {
        "id": "x-9RsLUfOPgJ"
      },
      "execution_count": null,
      "outputs": []
    },
    {
      "cell_type": "code",
      "source": [
        "# 4.Write a query to fetch all orders from the \"West\" region.\n",
        "print(\"\\n Orders from West region:\")\n",
        "for doc in orders_col.find({\"Region\": \"West\"}):\n",
        "    print(doc)"
      ],
      "metadata": {
        "id": "wy_kkSQqOPcc"
      },
      "execution_count": null,
      "outputs": []
    },
    {
      "cell_type": "code",
      "source": [
        "# 5.Write a query to find orders where Sales is greater than 500.\n",
        "print(\"\\n Orders with Sales > 500:\")\n",
        "for doc in orders_col.find({\"Sales\": {\"$gt\": 500}}):\n",
        "    print(doc)"
      ],
      "metadata": {
        "id": "T_c5Y-UJOPY3"
      },
      "execution_count": null,
      "outputs": []
    },
    {
      "cell_type": "code",
      "source": [
        "#  6.Fetch the top 3 orders with the highest Profit\n",
        "print(\"\\n Top 3 orders by Profit:\")\n",
        "for doc in orders_col.find().sort(\"Profit\", -1).limit(3):\n",
        "    print(doc)"
      ],
      "metadata": {
        "id": "VVwGtgX3OPQY"
      },
      "execution_count": null,
      "outputs": []
    },
    {
      "cell_type": "code",
      "source": [
        "# 7.Update all orders with Ship Mode as \"First Class\" to \"Premium Class.\n",
        "update_result = orders_col.update_many(\n",
        "    {\"Ship Mode\": \"First Class\"},\n",
        "    {\"$set\": {\"Ship Mode\": \"Premium Class\"}}\n",
        ")\n",
        "print(f\"\\n Updated {update_result.modified_count} documents from 'First Class' to 'Premium Class'.\")"
      ],
      "metadata": {
        "id": "udt7fH4tOfxU"
      },
      "execution_count": null,
      "outputs": []
    },
    {
      "cell_type": "code",
      "source": [
        "# 8.Delete all orders where Sales is less than 50.\n",
        "delete_result = orders_col.delete_many({\"Sales\": {\"$lt\": 50}})\n",
        "print(f\"\\n Deleted {delete_result.deleted_count} documents where Sales < 50.\")"
      ],
      "metadata": {
        "id": "V2U9I9kuOfkj"
      },
      "execution_count": null,
      "outputs": []
    },
    {
      "cell_type": "code",
      "source": [
        "# 9.Use aggregation to group orders by Region and calculate total sales per region.\n",
        "print(\"\\n Total Sales per Region:\")\n",
        "pipeline = [\n",
        "    {\"$group\": {\"_id\": \"$Region\", \"total_sales\": {\"$sum\": \"$Sales\"}}}\n",
        "]\n",
        "for result in orders_col.aggregate(pipeline):\n",
        "    print(result)"
      ],
      "metadata": {
        "id": "LZ-44PkyOnim"
      },
      "execution_count": null,
      "outputs": []
    },
    {
      "cell_type": "code",
      "source": [
        "# 10.Fetch all distinct values for Ship Mode from the collection.\n",
        "distinct_modes = orders_col.distinct(\"Ship Mode\")\n",
        "print(f\"\\n Distinct Ship Modes: {distinct_modes}\")"
      ],
      "metadata": {
        "id": "-iOhANcYOuPN"
      },
      "execution_count": null,
      "outputs": []
    },
    {
      "cell_type": "code",
      "source": [
        "# 11.Count the number of orders for each category.\n",
        "print(\"\\n📦 Orders count per Category:\")\n",
        "pipeline = [\n",
        "    {\"$group\": {\"_id\": \"$Category\", \"order_count\": {\"$sum\": 1}}}\n",
        "]\n",
        "for result in orders_col.aggregate(pipeline):\n",
        "    print(result)"
      ],
      "metadata": {
        "id": "RYLv8EGdOvue"
      },
      "execution_count": null,
      "outputs": []
    }
  ]
}